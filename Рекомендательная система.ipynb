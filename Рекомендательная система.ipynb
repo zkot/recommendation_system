{
  "nbformat": 4,
  "nbformat_minor": 0,
  "metadata": {
    "kernelspec": {
      "display_name": "Python 3",
      "language": "python",
      "name": "python3"
    },
    "language_info": {
      "codemirror_mode": {
        "name": "ipython",
        "version": 3
      },
      "file_extension": ".py",
      "mimetype": "text/x-python",
      "name": "python",
      "nbconvert_exporter": "python",
      "pygments_lexer": "ipython3",
      "version": "3.7.6"
    },
    "colab": {
      "name": "Практический_кейс_2_анализ_данных_магазина,_построение_рекомендательной_системы_(2_версия)_checkpoint.ipynb",
      "provenance": [],
      "collapsed_sections": []
    }
  },
  "cells": [
    {
      "cell_type": "markdown",
      "metadata": {
        "id": "hbuQ9E-7Mf_e"
      },
      "source": [
        "# Практический кейс 2\n",
        "\n",
        "## Анализ данных магазина розничной торговли. Построение простой рекомендательной системы\n",
        "\n",
        "При построении простой рекомендательной системы, ответим на вопросы:\n",
        "- какие пары товаров покупались вместе чаще всего?\n",
        "- какие товары чаще всего покупались вместе с данным товаром?"
      ]
    },
    {
      "cell_type": "markdown",
      "metadata": {
        "id": "kydpc5Q1Mf_m"
      },
      "source": [
        "Торговая сеть предоставила вам данные о покупках своих клиентов, представляющие собою таблицу со следующими столбцами:\n",
        "- `InvoiceNo` - номер чека. Товары с одинаковым `InvoiceNo` были приобретены одним покупателем в одной покупке.\n",
        "- `StockCode` - универсальный идентификатор товара в базе данных магазина (один и тот же товар имеет единый `StockCode` во всех чеках)\n",
        "- `Description` - название товара\n",
        "- `Quantity` - количество товаров данного типа в чеке\n",
        "- `UnitPrice` - цена одной единицы товара\n",
        "- `InvoiceDate` - дата совершения покупки\n",
        "- `CustomerID` - идентификационный номер пользователя (если покупка совершалась с каким-нибудь идентификатором, например с помощью скидочной карты магазина). Много покупок проходит без идентификации пользователя, поэтому в этой колонке может быть много пропусков."
      ]
    },
    {
      "cell_type": "code",
      "metadata": {
        "id": "e9TFRdXBMf_o"
      },
      "source": [
        "import pandas as pd\n",
        "import numpy as np"
      ],
      "execution_count": 1,
      "outputs": []
    },
    {
      "cell_type": "code",
      "metadata": {
        "id": "0wWtDYsLMf_t",
        "outputId": "0da10744-b234-48ec-e648-7bf33321a387",
        "colab": {
          "resources": {
            "http://localhost:8080/nbextensions/google.colab/files.js": {
              "data": "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",
              "ok": true,
              "headers": [
                [
                  "content-type",
                  "application/javascript"
                ]
              ],
              "status": 200,
              "status_text": ""
            }
          },
          "base_uri": "https://localhost:8080/",
          "height": 72
        }
      },
      "source": [
        "from google.colab import files\n",
        "uploaded = files.upload()\n",
        "\n",
        "df = pd.read_csv(\"online retail.csv\")"
      ],
      "execution_count": 2,
      "outputs": [
        {
          "output_type": "display_data",
          "data": {
            "text/html": [
              "\n",
              "     <input type=\"file\" id=\"files-fd55a630-3b8a-40de-b7af-c9d59f0b8604\" name=\"files[]\" multiple disabled\n",
              "        style=\"border:none\" />\n",
              "     <output id=\"result-fd55a630-3b8a-40de-b7af-c9d59f0b8604\">\n",
              "      Upload widget is only available when the cell has been executed in the\n",
              "      current browser session. Please rerun this cell to enable.\n",
              "      </output>\n",
              "      <script src=\"/nbextensions/google.colab/files.js\"></script> "
            ],
            "text/plain": [
              "<IPython.core.display.HTML object>"
            ]
          },
          "metadata": {
            "tags": []
          }
        },
        {
          "output_type": "stream",
          "text": [
            "Saving online retail.csv to online retail.csv\n"
          ],
          "name": "stdout"
        }
      ]
    },
    {
      "cell_type": "code",
      "metadata": {
        "id": "0cfUp_k4Mf_x",
        "outputId": "f561f6e3-4e15-4e73-974f-6592d6bd7c73",
        "colab": {
          "base_uri": "https://localhost:8080/"
        }
      },
      "source": [
        "df.shape"
      ],
      "execution_count": 3,
      "outputs": [
        {
          "output_type": "execute_result",
          "data": {
            "text/plain": [
              "(100000, 7)"
            ]
          },
          "metadata": {
            "tags": []
          },
          "execution_count": 3
        }
      ]
    },
    {
      "cell_type": "code",
      "metadata": {
        "id": "pBiGx5DqMf_3",
        "outputId": "4a4e2a57-bbe1-4dfe-efbc-e8581bc9a3ea",
        "colab": {
          "base_uri": "https://localhost:8080/",
          "height": 197
        }
      },
      "source": [
        "df.head(5)"
      ],
      "execution_count": null,
      "outputs": [
        {
          "output_type": "execute_result",
          "data": {
            "text/html": [
              "<div>\n",
              "<style scoped>\n",
              "    .dataframe tbody tr th:only-of-type {\n",
              "        vertical-align: middle;\n",
              "    }\n",
              "\n",
              "    .dataframe tbody tr th {\n",
              "        vertical-align: top;\n",
              "    }\n",
              "\n",
              "    .dataframe thead th {\n",
              "        text-align: right;\n",
              "    }\n",
              "</style>\n",
              "<table border=\"1\" class=\"dataframe\">\n",
              "  <thead>\n",
              "    <tr style=\"text-align: right;\">\n",
              "      <th></th>\n",
              "      <th>InvoiceNo</th>\n",
              "      <th>StockCode</th>\n",
              "      <th>Description</th>\n",
              "      <th>Quantity</th>\n",
              "      <th>InvoiceDate</th>\n",
              "      <th>UnitPrice</th>\n",
              "      <th>CustomerID</th>\n",
              "    </tr>\n",
              "  </thead>\n",
              "  <tbody>\n",
              "    <tr>\n",
              "      <th>0</th>\n",
              "      <td>536365</td>\n",
              "      <td>85123A</td>\n",
              "      <td>WHITE HANGING HEART T-LIGHT HOLDER</td>\n",
              "      <td>6</td>\n",
              "      <td>1/12/2010 8:26</td>\n",
              "      <td>2.55</td>\n",
              "      <td>17850.0</td>\n",
              "    </tr>\n",
              "    <tr>\n",
              "      <th>1</th>\n",
              "      <td>536365</td>\n",
              "      <td>71053</td>\n",
              "      <td>WHITE METAL LANTERN</td>\n",
              "      <td>6</td>\n",
              "      <td>1/12/2010 8:26</td>\n",
              "      <td>3.39</td>\n",
              "      <td>17850.0</td>\n",
              "    </tr>\n",
              "    <tr>\n",
              "      <th>2</th>\n",
              "      <td>536365</td>\n",
              "      <td>84406B</td>\n",
              "      <td>CREAM CUPID HEARTS COAT HANGER</td>\n",
              "      <td>8</td>\n",
              "      <td>1/12/2010 8:26</td>\n",
              "      <td>2.75</td>\n",
              "      <td>17850.0</td>\n",
              "    </tr>\n",
              "    <tr>\n",
              "      <th>3</th>\n",
              "      <td>536365</td>\n",
              "      <td>84029G</td>\n",
              "      <td>KNITTED UNION FLAG HOT WATER BOTTLE</td>\n",
              "      <td>6</td>\n",
              "      <td>1/12/2010 8:26</td>\n",
              "      <td>3.39</td>\n",
              "      <td>17850.0</td>\n",
              "    </tr>\n",
              "    <tr>\n",
              "      <th>4</th>\n",
              "      <td>536365</td>\n",
              "      <td>84029E</td>\n",
              "      <td>RED WOOLLY HOTTIE WHITE HEART.</td>\n",
              "      <td>6</td>\n",
              "      <td>1/12/2010 8:26</td>\n",
              "      <td>3.39</td>\n",
              "      <td>17850.0</td>\n",
              "    </tr>\n",
              "  </tbody>\n",
              "</table>\n",
              "</div>"
            ],
            "text/plain": [
              "   InvoiceNo StockCode  ... UnitPrice  CustomerID\n",
              "0     536365    85123A  ...      2.55     17850.0\n",
              "1     536365     71053  ...      3.39     17850.0\n",
              "2     536365    84406B  ...      2.75     17850.0\n",
              "3     536365    84029G  ...      3.39     17850.0\n",
              "4     536365    84029E  ...      3.39     17850.0\n",
              "\n",
              "[5 rows x 7 columns]"
            ]
          },
          "metadata": {
            "tags": []
          },
          "execution_count": 4
        }
      ]
    },
    {
      "cell_type": "code",
      "metadata": {
        "id": "SbIj3hFoMf_-"
      },
      "source": [
        "df_first_part = df[['InvoiceNo', 'StockCode', 'Description']]"
      ],
      "execution_count": 4,
      "outputs": []
    },
    {
      "cell_type": "markdown",
      "metadata": {
        "id": "72xyFkibMgAC"
      },
      "source": [
        "Нам будет удобнее работать с данными, если `id` товаров будут идти от 1 до числа уникальных товаров в датафрейме. \n",
        "\n",
        "Поэтому создадим новые удобные id товаров\n",
        "(создадим словарь новых индексов, в котором пронумеруем товары числами от 1 до количества уникальных товаров в этом датафрейме и присвоим товарам данные id)"
      ]
    },
    {
      "cell_type": "code",
      "metadata": {
        "id": "YJ4XbPa5MgAE"
      },
      "source": [
        "unique_sorted_stock_codes = sorted(df_first_part[\"StockCode\"].unique())"
      ],
      "execution_count": 5,
      "outputs": []
    },
    {
      "cell_type": "code",
      "metadata": {
        "id": "KkYurKLyMgAJ",
        "outputId": "84c832b1-f2dd-4ca6-b35f-35dec3aaf613",
        "colab": {
          "base_uri": "https://localhost:8080/"
        }
      },
      "source": [
        "len_StockCode_list = len(unique_sorted_stock_codes)\n",
        "len_StockCode_list\n"
      ],
      "execution_count": 6,
      "outputs": [
        {
          "output_type": "execute_result",
          "data": {
            "text/plain": [
              "3128"
            ]
          },
          "metadata": {
            "tags": []
          },
          "execution_count": 6
        }
      ]
    },
    {
      "cell_type": "code",
      "metadata": {
        "id": "X-3dDkSLMgAP",
        "outputId": "9424d08a-1c8f-45e4-8302-75df94df46c5",
        "colab": {
          "base_uri": "https://localhost:8080/"
        }
      },
      "source": [
        "id_codes = np.arange(0,len_StockCode_list)\n",
        "id_codes \n",
        "\n",
        "# проверка, что списки одинаковые\n",
        "print(\"Длина списков одинакова\", len(unique_sorted_stock_codes) == len(id_codes))\n",
        "\n",
        "#создание словаря\n",
        "new_codes = dict(zip(unique_sorted_stock_codes,id_codes))"
      ],
      "execution_count": 7,
      "outputs": [
        {
          "output_type": "stream",
          "text": [
            "Длина списков одинакова True\n"
          ],
          "name": "stdout"
        }
      ]
    },
    {
      "cell_type": "markdown",
      "metadata": {
        "id": "3MlFKinPMgAc"
      },
      "source": [
        "При построении простой рекомендательной системы, ответим на вопросы:\n",
        "- какие пары товаров покупались вместе чаще всего?\n",
        "- какие товары чаще всего покупались вместе с данным товаром?\n"
      ]
    },
    {
      "cell_type": "markdown",
      "metadata": {
        "id": "Z4eeNV9_MgAd"
      },
      "source": [
        "Для этого построим \"матрицу смежности\" ( число на пересечении `i`-й строки и `j`-го столбца отражают в скольки чеках были одновременно два товара с индексами `i` и `j`)"
      ]
    },
    {
      "cell_type": "markdown",
      "metadata": {
        "id": "AQMuI5imMgAf"
      },
      "source": [
        "Для этого:\n",
        "\n",
        "0) cоздать матрицу из нулей;\n",
        "1) сгруппировать объекты по чекам;\n",
        "внутри каждой группы:\n",
        "2) сгенерировать попарные комбинации товаров внутри одного чека (с помощью Intertools);\n",
        "для каждой сгенерированной пары:\n",
        "3) вычислить индексы i и j каждого из товаров в паре\n",
        "4) прибавить 1 к ячейке матрицы с индексами [i,j]\n",
        "\n",
        "Примечание: если два товара встречались комбинациях по 2 в разном порядке (напр. (item_1, item_2) и (item_2, item_1)), то единичку ставим в ячейку, у которой номер строки меньше (если i < j, то +1 к элементу [i,j], иначе +1 к элементу [j,i]). \n",
        "\n"
      ]
    },
    {
      "cell_type": "code",
      "metadata": {
        "id": "u3zKzVzVMgAg"
      },
      "source": [
        "import itertools"
      ],
      "execution_count": 8,
      "outputs": []
    },
    {
      "cell_type": "code",
      "metadata": {
        "id": "gEfANiyDMgAz",
        "outputId": "13c4dda6-eba9-4d8b-a21f-e29a9ee80d28",
        "colab": {
          "base_uri": "https://localhost:8080/"
        }
      },
      "source": [
        "# Создадим нулевую матрицу\n",
        "item_pairs_counts = np.zeros((len(new_codes), len(new_codes)))\n",
        "# 1) сгруппировать объекты по чекам;\n",
        "for invoice_number, invoice_group in df_first_part.groupby(['InvoiceNo']):\n",
        "# внутри каждой группы:\n",
        "# 2) сгенерировать попарные комбинации товаров внутри одного чека;\n",
        "# для каждой сгенерированной пары:\n",
        "# 3) вычислить индексы i и j каждого из товаров в паре\n",
        "    for item_1, item_2 in itertools.combinations(list(invoice_group[\"StockCode\"].unique()), 2):   # можно вместо unique, set использовать\n",
        "#         print(item_1,item_2)\n",
        "        i = new_codes[item_1]\n",
        "        j = new_codes[item_2]\n",
        "# 4) прибавить 1 к ячейке матрицы с индексами [i,j] и сделать верхоугольную матрицу\n",
        "        if i < j:\n",
        "            item_pairs_counts[i,j] += 1\n",
        "        else:\n",
        "            item_pairs_counts[j,i] += 1\n",
        "       \n",
        "item_pairs_counts      "
      ],
      "execution_count": 10,
      "outputs": [
        {
          "output_type": "execute_result",
          "data": {
            "text/plain": [
              "array([[0., 1., 1., ..., 0., 0., 0.],\n",
              "       [0., 0., 1., ..., 0., 0., 0.],\n",
              "       [0., 0., 0., ..., 0., 0., 0.],\n",
              "       ...,\n",
              "       [0., 0., 0., ..., 0., 0., 0.],\n",
              "       [0., 0., 0., ..., 0., 0., 0.],\n",
              "       [0., 0., 0., ..., 0., 0., 0.]])"
            ]
          },
          "metadata": {
            "tags": []
          },
          "execution_count": 10
        }
      ]
    },
    {
      "cell_type": "markdown",
      "metadata": {
        "id": "R-4soM1BMgA8"
      },
      "source": [
        "#Проверка матрицы.\n",
        "\n",
        "Проверка, в скольких чеках встречалась пара товаров со `StockCode=85123A` и со `StockCode=71053`:"
      ]
    },
    {
      "cell_type": "code",
      "metadata": {
        "id": "WaSP_mldMgA9",
        "outputId": "d65b64ee-7775-4c97-b8ec-5572c917551d",
        "colab": {
          "base_uri": "https://localhost:8080/"
        }
      },
      "source": [
        "counter = 0\n",
        "for invoice_num, invoice_group in df_first_part.groupby(\"InvoiceNo\"):\n",
        "    s = set(invoice_group['StockCode'])\n",
        "    if '71053' in s and '85123A' in s:\n",
        "        counter += 1\n",
        "print(counter)\n"
      ],
      "execution_count": 11,
      "outputs": [
        {
          "output_type": "stream",
          "text": [
            "36\n"
          ],
          "name": "stdout"
        }
      ]
    },
    {
      "cell_type": "code",
      "metadata": {
        "id": "j3wVvcb8MgBA",
        "outputId": "70a4dec4-63ed-4277-c5c6-38875c79c5e2",
        "colab": {
          "base_uri": "https://localhost:8080/"
        }
      },
      "source": [
        "# Другой способ проверки - на основе основного кода. \n",
        "count = 0\n",
        "for group_key, df in df_first_part.groupby([\"InvoiceNo\"]):\n",
        "    for item_12 in itertools.combinations(set(df[\"StockCode\"]), 2):\n",
        "        if item_12 == (\"85123A\", \"71053\") or item_12 == (\"71053\", \"85123A\"):\n",
        "            count += 1\n",
        "# проверила, что может быть в одном инвойсе несколько строк с одинаковым товаром\n",
        "    # print(len((df[\"StockCode\"])) != len((df[\"StockCode\"]).unique()))\n",
        "count"
      ],
      "execution_count": 12,
      "outputs": [
        {
          "output_type": "execute_result",
          "data": {
            "text/plain": [
              "36"
            ]
          },
          "metadata": {
            "tags": []
          },
          "execution_count": 12
        }
      ]
    },
    {
      "cell_type": "markdown",
      "metadata": {
        "id": "SDorMtg9MgBE"
      },
      "source": [
        "Таким образом пара товаров со `StockCode=85123A` и со `StockCode=71053` встречалась одновременно в 36 чеках."
      ]
    },
    {
      "cell_type": "markdown",
      "metadata": {
        "id": "1UdazyWVMgBF"
      },
      "source": [
        "Теперь получим это же число чеков, в которых эта пара товаров встречалась вместе с помощью вычисленной матрицы."
      ]
    },
    {
      "cell_type": "code",
      "metadata": {
        "id": "Qu6JU96aMgBM",
        "outputId": "64b757e0-550e-4151-8d41-48090c420f30",
        "colab": {
          "base_uri": "https://localhost:8080/"
        }
      },
      "source": [
        "item_pairs_counts[new_codes['71053'], new_codes['85123A']]\n",
        "# изначально тест у меня был с ошибкой. Как выяснилось из-за того, что в инвойсе могло быть две строки с одинаковым товаром\n",
        "# проверила, что такие случаи имеют место быть.В результате добавила в основном коде уникальные значения товаров в каждом инвойсе \n"
      ],
      "execution_count": null,
      "outputs": [
        {
          "output_type": "execute_result",
          "data": {
            "text/plain": [
              "36.0"
            ]
          },
          "metadata": {
            "tags": []
          },
          "execution_count": 19
        }
      ]
    },
    {
      "cell_type": "markdown",
      "metadata": {
        "id": "_x4EOIhoMgBX"
      },
      "source": [
        "Проверка для любого другого товара с другими `StockCode`\n",
        "\n",
        "(товары определяются или вводом значений, или случайным образом (если товары не определены)"
      ]
    },
    {
      "cell_type": "code",
      "metadata": {
        "id": "rD7pdKkiMgBY",
        "outputId": "baed5dd6-31fb-49c0-d602-3c292ab5e73b",
        "colab": {
          "base_uri": "https://localhost:8080/"
        }
      },
      "source": [
        "if input(\"У вас есть искомые товары (ответ да/нет)?\") == \"да\":\n",
        "    a = input(\"Введите StockCode первого товара\")\n",
        "    b = input(\"Введите StockCode второго товара\")\n",
        "else:\n",
        "# Определение случайным образом StockCode товаров a b\n",
        "    StockCode_unique = np.array(sorted(df_first_part['StockCode'].unique()))\n",
        "    a = np.random.choice(StockCode_unique, size=1, replace=True, p=None)[0]\n",
        "    b = np.random.choice(StockCode_unique, size=1, replace=True, p=None)[0]\n",
        "\n",
        "# проверка по изначальной таблице\n",
        "counter = 0\n",
        "for invoice_num, invoice_group in df_first_part.groupby(\"InvoiceNo\"):\n",
        "    s = set(invoice_group['StockCode'])\n",
        "    if a in s and b in s:\n",
        "        counter += 1\n",
        "\n",
        "# проверка из матрицы\n",
        "print(\"Код первого товара:\",a)\n",
        "print(\"Код второго товара:\",b)\n",
        "print(\"Кол-во пересечений в таблице:\",counter)\n",
        "print(\"Кол-во пересечений в матрице:\",item_pairs_counts[new_codes[b], new_codes[a]], item_pairs_counts[new_codes[a], new_codes[b]])\n",
        "# печать выводов\n",
        "if counter==0:\n",
        "    print(\"Пересечений нет\")\n",
        "elif counter == item_pairs_counts[new_codes[b], new_codes[a]] or counter == item_pairs_counts[new_codes[a], new_codes[b]]:\n",
        "    print(\"значение числа чеков, в которых есть оба этих товара, определены верны\")\n",
        "else:\n",
        "    print(\"значение числа чеков, в которых есть оба этих товара, определены неверно\")"
      ],
      "execution_count": 18,
      "outputs": [
        {
          "output_type": "stream",
          "text": [
            "У вас есть искомые товары (ответ да/нет)?да\n",
            "Введите StockCode первого товара85123A\n",
            "Введите StockCode второго товара71053\n",
            "Код первого товара: 85123A\n",
            "Код второго товара: 71053\n",
            "Кол-во пересечений в таблице: 36\n",
            "Кол-во пересечений в матрице: 36.0 0.0\n",
            "значение числа чеков, в которых есть оба этих товара, определены верны\n"
          ],
          "name": "stdout"
        }
      ]
    },
    {
      "cell_type": "markdown",
      "metadata": {
        "id": "E4Gbbo3UQJqL"
      },
      "source": [
        "# Определим,какие товары чаще всего покупались вместе с данным товаром (товаром с данным id)"
      ]
    },
    {
      "cell_type": "markdown",
      "metadata": {
        "id": "aFHsVgwKMgBe"
      },
      "source": [
        "Для оптимизации транспонируем нашу верхнеугольную матрицу, чтобы для пары товаров данные были одинаковые, независимо, по строкам или столбцам мы ищем товар."
      ]
    },
    {
      "cell_type": "code",
      "metadata": {
        "id": "SzmBhcFeMgBi"
      },
      "source": [
        "item_pairs_counts += item_pairs_counts.T\n"
      ],
      "execution_count": 19,
      "outputs": []
    },
    {
      "cell_type": "code",
      "metadata": {
        "id": "-rtpBK9BMgBn",
        "outputId": "fcee50d5-6912-452e-ffb0-705718008fb6",
        "colab": {
          "base_uri": "https://localhost:8080/"
        }
      },
      "source": [
        "# проверяем, что матрица стала симметричной\n",
        "np.allclose(item_pairs_counts, item_pairs_counts.T)"
      ],
      "execution_count": 20,
      "outputs": [
        {
          "output_type": "execute_result",
          "data": {
            "text/plain": [
              "True"
            ]
          },
          "metadata": {
            "tags": []
          },
          "execution_count": 20
        }
      ]
    },
    {
      "cell_type": "markdown",
      "metadata": {
        "id": "pWeR6S-jMgBs"
      },
      "source": [
        "Какая пара товаров была куплена вместе наибольшее число раз? \n"
      ]
    },
    {
      "cell_type": "code",
      "metadata": {
        "id": "tWuuvBhPMgBs",
        "outputId": "9cc04a1c-31d0-4596-9cde-ae1dd6f502df",
        "colab": {
          "base_uri": "https://localhost:8080/"
        }
      },
      "source": [
        "#подготовка\n",
        "#для конвертации индекса в Stockcode нам нужно \"транспонировать\" словарь\n",
        "new_codes_changed_key_value = {}\n",
        "for k, v in new_codes.items():\n",
        "    new_codes_changed_key_value[v] = k\n",
        "\n",
        "# Нужно определить максимальное значение в матрице c помощью np.argmax (находим индекс максимального значения. в матрице могут быть несколько пар товаров\\\n",
        "# с одинаковым максимальным число сочетаний. np.argmax вернет первое из них)\n",
        "# Затем определяем StockCode и название товара\n",
        "# Выводим информацию на печать\n",
        "max_Index_pairs_counts = np.unravel_index(item_pairs_counts.argmax(), (3128,3128))\n",
        "print(\"Максимальное количество комплиментарных товаров:\",item_pairs_counts[max_Index_pairs_counts])\n",
        "print(\"Товары с наибольшим пересечением:\",max_Index_pairs_counts)\n",
        "print(\"\\n\")\n",
        "print(\"Товар 1 имеет индекс {}\".format(max_Index_pairs_counts[0]),\\\n",
        "          \"Товар 1 имеет StockCode  {}:\".format(new_codes_changed_key_value[max_Index_pairs_counts[0]]),\\\n",
        "          \"Товар 1 из имеет название {}:\".format(df_first_part[df_first_part[\"StockCode\"]==\\\n",
        "                                                                           new_codes_changed_key_value[max_Index_pairs_counts[0]]][\"Description\"].iloc[1]),sep=\"\\n\")\n",
        "print(f\"\\n\")\n",
        "print(\"Товар 2 имеет индекс {}\".format(max_Index_pairs_counts[1]),\\\n",
        "          \"Товар 2 имеет StockCode {}:\".format(new_codes_changed_key_value[max_Index_pairs_counts[1]]),\\\n",
        "          \"Товар 2 имеет название {}:\".format(df_first_part[df_first_part[\"StockCode\"]==\\\n",
        "                                                                           new_codes_changed_key_value[max_Index_pairs_counts[1]]][\"Description\"].iloc[1]),sep=\"\\n\")"
      ],
      "execution_count": 21,
      "outputs": [
        {
          "output_type": "stream",
          "text": [
            "Максимальное количество комплиментарных товаров: 189.0\n",
            "Товары с наибольшим пересечением: (1323, 1324)\n",
            "\n",
            "\n",
            "Товар 1 имеет индекс 1323\n",
            "Товар 1 имеет StockCode  22469:\n",
            "Товар 1 из имеет название HEART OF WICKER SMALL:\n",
            "\n",
            "\n",
            "Товар 2 имеет индекс 1324\n",
            "Товар 2 имеет StockCode 22470:\n",
            "Товар 2 имеет название HEART OF WICKER LARGE:\n"
          ],
          "name": "stdout"
        }
      ]
    },
    {
      "cell_type": "markdown",
      "metadata": {
        "id": "ChDwDp3pMgBw"
      },
      "source": [
        "#Определим, что чаще всего покупали вместе с `KNITTED UNION FLAG HOT WATER BOTTLE` (`stock_code=84029G`)?\n",
        "Если совпадений одинаковое количество, выведем первый товар\n",
        "\n",
        "\n",
        "\n",
        "\n"
      ]
    },
    {
      "cell_type": "code",
      "metadata": {
        "id": "acLIhi_V0bAq"
      },
      "source": [
        "def find_compliment_tovar(index_for_pair, item_pairs_counts):\n",
        "        max_item_pairs_counts = item_pairs_counts[:,index_for_pair].max()\n",
        "        index_goods_max = np.where(item_pairs_counts[:,index_for_pair] == max_item_pairs_counts)\n",
        "        index_goods_max = np.array(index_goods_max)[0][0]\n",
        "        return index_goods_max, max_item_pairs_counts \n"
      ],
      "execution_count": 63,
      "outputs": []
    },
    {
      "cell_type": "code",
      "metadata": {
        "id": "fiO8nkLSMgCF",
        "outputId": "37a6f743-98f5-4322-a5e5-c049b05a7991",
        "colab": {
          "base_uri": "https://localhost:8080/"
        }
      },
      "source": [
        "code = df_first_part[df_first_part[\"Description\"] == \"KNITTED UNION FLAG HOT WATER BOTTLE\"][\"StockCode\"].iloc[1]\n",
        "index_for_pair = new_codes[code]\n",
        "compliment_tovar_index,max_item_pairs_counts  = find_compliment_tovar(index_for_pair, item_pairs_counts)\n",
        "print(\"товар имеет комплиментарный товар с индексом: {}\".format(compliment_tovar_index))\n",
        "compliment_tovar_stockcode = new_codes_changed_key_value[compliment_tovar_index]\n",
        "print(\"товар имеет комплиментарный товар с StockCode: {}\".format(compliment_tovar_stockcode)) \n",
        "compliment_tovar_description = df_first_part[df_first_part[\"StockCode\"] == compliment_tovar_stockcode][\"Description\"].iloc[1]\n",
        "print(\"товар имеет комплиментарный товар с названием: {}\".format(compliment_tovar_description))\n",
        "print(\"количество совпадений с комплиментарным товаром: {}\".format(max_item_pairs_counts))\n"
      ],
      "execution_count": 66,
      "outputs": [
        {
          "output_type": "stream",
          "text": [
            "товар имеет комплиментарный товар с индексом: 2215\n",
            "товар имеет комплиментарный товар с StockCode: 84029E\n",
            "товар имеет комплиментарный товар с названием: RED WOOLLY HOTTIE WHITE HEART.\n",
            "количество совпадений с комплиментарным товаром: 82.0\n"
          ],
          "name": "stdout"
        }
      ]
    },
    {
      "cell_type": "markdown",
      "metadata": {
        "id": "XmHMpJ0-MgCJ"
      },
      "source": [
        "# Определим по входному списку товаров список такой же длины, состоящий из товаров, которые наиболее часто покупаются вместе с каждым товаром из входного списка.\n",
        "\n"
      ]
    },
    {
      "cell_type": "code",
      "metadata": {
        "id": "7KMn0tpaMgCK"
      },
      "source": [
        "input_items_list = ['84406B', '22585', '20749']"
      ],
      "execution_count": 67,
      "outputs": []
    },
    {
      "cell_type": "code",
      "metadata": {
        "id": "3-aZRv0wMgCN",
        "outputId": "72a86c3f-25c1-4add-ee45-26e33a75a68f",
        "colab": {
          "base_uri": "https://localhost:8080/"
        }
      },
      "source": [
        "input_items_list = ['84406B', '22585', '20749']\n",
        "spisok_for_recommend = []\n",
        "input_items_index_list = [new_codes[s] for s in input_items_list]  \n",
        "for i in input_items_index_list:\n",
        "    spisok_for_recommend.append(find_compliment_tovar(i, item_pairs_counts)[0])\n",
        "spisok_for_recommend    "
      ],
      "execution_count": 71,
      "outputs": [
        {
          "output_type": "execute_result",
          "data": {
            "text/plain": [
              "[2679, 1280, 164]"
            ]
          },
          "metadata": {
            "tags": []
          },
          "execution_count": 71
        }
      ]
    }
  ]
}